{
 "cells": [
  {
   "cell_type": "markdown",
   "metadata": {},
   "source": [
    "# Rental Listing Inquiries\n",
    "Kaggle: https://www.kaggle.com/c/two-sigma-connect-rental-listing-inquiries"
   ]
  },
  {
   "cell_type": "code",
   "execution_count": 78,
   "metadata": {
    "collapsed": false
   },
   "outputs": [],
   "source": [
    "import pandas as pd\n",
    "import numpy as np\n",
    "\n",
    "train_data = pd.read_json('train.json')\n",
    "test_data = pd.read_json('test.json')"
   ]
  },
  {
   "cell_type": "code",
   "execution_count": 146,
   "metadata": {
    "collapsed": false
   },
   "outputs": [
    {
     "name": "stdout",
     "output_type": "stream",
     "text": [
      "--- Train data ---\n",
      "Unique listings:  49352\n",
      "Number of features:  25\n",
      "List of features:  bathrooms, bedrooms, building_id, created, description, display_address, features, interest_level, latitude, listing_id, longitude, manager_id, photos, price, street_address, price_bd_ratio, created_year, created_month, created_day, is_description, description_len, features_count, photos_count, building_id_updated, manager_id_updated\n"
     ]
    }
   ],
   "source": [
    "# Load train and test data\n",
    "initial_train_features = train_data.columns.values\n",
    "\n",
    "print '--- Train data ---'\n",
    "print 'Unique listings: ', train_data['listing_id'].count()\n",
    "print 'Number of features: ', len(initial_train_features)\n",
    "print 'List of features: ',\n",
    "for i in range(len(initial_train_features)):\n",
    "    if i == len(initial_train_features) - 1:\n",
    "        print initial_train_features[i]\n",
    "    else:\n",
    "        print initial_train_features[i]+',',\n",
    "\n",
    "#train_data.head(20)"
   ]
  },
  {
   "cell_type": "code",
   "execution_count": 22,
   "metadata": {
    "collapsed": false
   },
   "outputs": [],
   "source": [
    "import re, string\n",
    "\n",
    "big_list = []\n",
    "\n",
    "pattern = re.compile('[\\W_]+')\n",
    "\n",
    "for item in train_data['features']:\n",
    "    for feature in item:\n",
    "        splitter_feature = re.split('\\*|/', feature)\n",
    "        for temp in splitter_feature:\n",
    "            if not temp:\n",
    "                continue\n",
    "            temp = pattern.sub('', temp.lower())\n",
    "            temp = ''.join(sorted(temp))\n",
    "            if temp not in big_list:\n",
    "                big_list.append(temp)"
   ]
  },
  {
   "cell_type": "code",
   "execution_count": 297,
   "metadata": {
    "collapsed": false
   },
   "outputs": [],
   "source": [
    "#print len(big_list)\n",
    "#sorted(big_list)"
   ]
  },
  {
   "cell_type": "code",
   "execution_count": 147,
   "metadata": {
    "collapsed": false
   },
   "outputs": [
    {
     "name": "stdout",
     "output_type": "stream",
     "text": [
      "--- Test data ---\n",
      "Unique listings:  74659\n",
      "Number of features:  24\n",
      "List of features:  bathrooms, bedrooms, building_id, created, description, display_address, features, latitude, listing_id, longitude, manager_id, photos, price, street_address, price_bd_ratio, created_year, created_month, created_day, is_description, description_len, features_count, photos_count, building_id_updated, manager_id_updated\n"
     ]
    }
   ],
   "source": [
    "initial_test_features = test_data.columns.values\n",
    "\n",
    "print '--- Test data ---'\n",
    "print 'Unique listings: ', test_data['listing_id'].count()\n",
    "print 'Number of features: ', len(initial_test_features)\n",
    "print 'List of features: ',\n",
    "for i in range(len(initial_test_features)):\n",
    "    if i == len(initial_test_features) - 1:\n",
    "        print initial_test_features[i]\n",
    "    else:\n",
    "        print initial_test_features[i]+',',\n",
    "\n",
    "#test_data.head()"
   ]
  },
  {
   "cell_type": "code",
   "execution_count": 83,
   "metadata": {
    "collapsed": false
   },
   "outputs": [
    {
     "data": {
      "text/plain": [
       "{u'bathrooms': 0.0,\n",
       " u'bedrooms': 0.0,\n",
       " u'building_id': 0.1678959313,\n",
       " u'created': 0.0,\n",
       " u'description': 0.0292997244,\n",
       " u'display_address': 0.0027354515,\n",
       " u'features': 0.0652050575,\n",
       " u'interest_level': 0.0,\n",
       " u'latitude': 0.0,\n",
       " u'listing_id': 0.0,\n",
       " u'longitude': 0.0,\n",
       " u'manager_id': 0.0,\n",
       " u'photos': 0.0732493111,\n",
       " u'price': 0.0,\n",
       " u'street_address': 0.000202626}"
      ]
     },
     "execution_count": 83,
     "metadata": {},
     "output_type": "execute_result"
    }
   ],
   "source": [
    "# Ration of NaN values\n",
    "ratio = {}\n",
    "for i in initial_train_features:\n",
    "    k = 0\n",
    "    for j in train_data[i].values:\n",
    "        if j == 'NaN' or j == [] or j == '0' or j == '':\n",
    "            k += 1\n",
    "    ratio[i] = round(k / float(train_data[i].count()), 10)  \n",
    "ratio"
   ]
  },
  {
   "cell_type": "code",
   "execution_count": 84,
   "metadata": {
    "collapsed": false
   },
   "outputs": [],
   "source": [
    "def update_features(df):\n",
    "    # Cleaning and updating data\n",
    "    df['created'] = pd.to_datetime(df['created'])\n",
    "\n",
    "    # Creating new features\n",
    "    df['price_bd_ratio'] = np.where(df['bedrooms'] == 0, \n",
    "                                            df['price'], \n",
    "                                            df['price'] / df['bedrooms'])\n",
    "    df['created_year'] = df['created'].dt.year\n",
    "    df['created_month'] = df['created'].dt.month\n",
    "    df['created_day'] = df['created'].dt.day\n",
    "    df['is_description'] = np.where(df['description'].str.len() < 50, 0, 1)\n",
    "    df['description_len'] = df['description'].str.len()\n",
    "    df['features_count'] = df['features'].str.len()\n",
    "    df['photos_count'] = df['photos'].str.len()\n",
    "\n",
    "    # Updated building id\n",
    "    building_hash = {}\n",
    "    bd_id = 0\n",
    "    for item in df['building_id']:\n",
    "        if item not in building_hash:\n",
    "            building_hash[item] = bd_id\n",
    "            bd_id += 1\n",
    "\n",
    "    building_id_list = []\n",
    "    for item in df['building_id']:\n",
    "        building_id_list.append(building_hash[item])\n",
    "    df['building_id_updated'] = building_id_list\n",
    "\n",
    "    # Updated manager id\n",
    "    manager_hash = {}\n",
    "    mn_id = 0\n",
    "    for manager in df['manager_id']:\n",
    "        if manager not in manager_hash:\n",
    "            manager_hash[manager] = mn_id\n",
    "            mn_id += 1\n",
    "\n",
    "    manager_id_list = []\n",
    "    for manager in df['manager_id']:\n",
    "        manager_id_list.append(manager_hash[manager])\n",
    "    df['manager_id_updated'] = manager_id_list\n",
    "    \n",
    "    return df"
   ]
  },
  {
   "cell_type": "code",
   "execution_count": 311,
   "metadata": {
    "collapsed": false
   },
   "outputs": [
    {
     "name": "stdout",
     "output_type": "stream",
     "text": [
      "<class 'pandas.core.frame.DataFrame'>\n",
      "<class 'pandas.core.series.Series'>\n"
     ]
    },
    {
     "data": {
      "text/plain": [
       "0         7142618\n",
       "1         7210040\n",
       "100       7103890\n",
       "1000      7143442\n",
       "100000    6860601\n",
       "100001    6840081\n",
       "100002    6922337\n",
       "100003    6913616\n",
       "100005    6937820\n",
       "100006    6893933\n",
       "100008    6832604\n",
       "100009    6915282\n",
       "10001     7127565\n",
       "100010    6827899\n",
       "100011    6934855\n",
       "100012    6861826\n",
       "100015    6871643\n",
       "100017    6842542\n",
       "100018    6934145\n",
       "100019    6829365\n",
       "10002     7167858\n",
       "100021    6859483\n",
       "100022    6861377\n",
       "100023    6848960\n",
       "100024    6918850\n",
       "100025    6916867\n",
       "100028    6895840\n",
       "100029    6813539\n",
       "10003     7116900\n",
       "100031    6890328\n",
       "           ...   \n",
       "99957     6855560\n",
       "99958     6816731\n",
       "99959     6925764\n",
       "9996      7139280\n",
       "99962     6913068\n",
       "99963     6828445\n",
       "99967     6867865\n",
       "99968     6820397\n",
       "99969     6852197\n",
       "9997      7122934\n",
       "99970     6907838\n",
       "99971     6865896\n",
       "99972     6840250\n",
       "99973     6926011\n",
       "99974     6893100\n",
       "99975     6867538\n",
       "99976     6884360\n",
       "99977     6903964\n",
       "99978     6907851\n",
       "9998      7211166\n",
       "99981     6844290\n",
       "99983     6947597\n",
       "99985     6895423\n",
       "99989     6812077\n",
       "99990     6903956\n",
       "99995     6881005\n",
       "99996     6835379\n",
       "99997     6882352\n",
       "99998     6884758\n",
       "99999     6924212\n",
       "Name: listing_id, dtype: int64"
      ]
     },
     "execution_count": 311,
     "metadata": {},
     "output_type": "execute_result"
    }
   ],
   "source": [
    "listing_id = test_data['listing_id']\n",
    "\n",
    "train_data = update_features(train_data)\n",
    "test_data = update_features(test_data)\n",
    "print type(test_data)\n",
    "print type(listing_id)\n",
    "\n",
    "listing_id"
   ]
  },
  {
   "cell_type": "code",
   "execution_count": 157,
   "metadata": {
    "collapsed": false
   },
   "outputs": [],
   "source": [
    "# Creating feature format for data\n",
    "\n",
    "def feature_format(df, features):\n",
    "    temp = pd.DataFrame()\n",
    "    \n",
    "    cl = df.columns.values.tolist()\n",
    "    \n",
    "    if 'interest_level' in cl:\n",
    "        cl.insert(0, cl.pop(cl.index('interest_level')))\n",
    "        df = df.reindex(columns=cl)\n",
    "        temp = pd.DataFrame(df[features[0]])\n",
    "        \n",
    "    for i in range(1, len(features)):\n",
    "        temp[features[i]] = df[features[i]]\n",
    "    return np.array(temp)"
   ]
  },
  {
   "cell_type": "code",
   "execution_count": 158,
   "metadata": {
    "collapsed": false
   },
   "outputs": [
    {
     "name": "stdout",
     "output_type": "stream",
     "text": [
      "(49352, 16)\n"
     ]
    }
   ],
   "source": [
    "features_ = ['interest_level', 'bathrooms', 'bedrooms', 'building_id', 'created', \n",
    "             'description', 'display_address', 'features', 'latitude', 'listing_id', \n",
    "             'longitude', 'manager_id', 'photos', 'price', 'street_address', \n",
    "             'price_bd_ratio', 'created_year', 'created_month', 'created_day', \n",
    "             'is_description', 'features_count', 'photos_count','building_id_updated',\n",
    "             'manager_id_updated', 'description_len']\n",
    "features_list = ['interest_level', 'bathrooms', 'bedrooms', 'latitude', 'longitude', 'price', \n",
    "                'price_bd_ratio', 'created_month', 'created_day', 'is_description', 'listing_id',\n",
    "                'features_count', 'photos_count','building_id_updated', 'manager_id_updated',\n",
    "                'description_len']\n",
    "\n",
    "data = feature_format(train_data, features_list)\n",
    "print data.shape"
   ]
  },
  {
   "cell_type": "code",
   "execution_count": 177,
   "metadata": {
    "collapsed": false
   },
   "outputs": [],
   "source": [
    "def labels_features_split(data, if_labels=True):\n",
    "    labels = []\n",
    "    features = []\n",
    "    for i in data:\n",
    "        if if_labels:\n",
    "            labels.append(i[0])\n",
    "            features.append(i[1:])\n",
    "        else:\n",
    "            features.append(i[:])\n",
    "    return labels, features\n",
    "\n",
    "labels, features = labels_features_split(data)"
   ]
  },
  {
   "cell_type": "code",
   "execution_count": 178,
   "metadata": {
    "collapsed": false
   },
   "outputs": [],
   "source": [
    "from sklearn.feature_selection import SelectKBest, f_classif"
   ]
  },
  {
   "cell_type": "code",
   "execution_count": 179,
   "metadata": {
    "collapsed": false
   },
   "outputs": [
    {
     "data": {
      "text/plain": [
       "SelectKBest(k=1, score_func=<function f_classif at 0x1571fa230>)"
      ]
     },
     "execution_count": 179,
     "metadata": {},
     "output_type": "execute_result"
    }
   ],
   "source": [
    "selection = SelectKBest(f_classif, k=1)\n",
    "selection.fit(features, labels)"
   ]
  },
  {
   "cell_type": "code",
   "execution_count": 180,
   "metadata": {
    "collapsed": true
   },
   "outputs": [],
   "source": [
    "from matplotlib import pyplot as plt"
   ]
  },
  {
   "cell_type": "code",
   "execution_count": 181,
   "metadata": {
    "collapsed": true
   },
   "outputs": [],
   "source": [
    "# Barchart function\n",
    "%matplotlib inline \n",
    "\n",
    "def create_barchart(features_list, features_scores, desc, ylabel):\n",
    "    features_scores = zip(features_list, features_scores)\n",
    "    features_scores = sorted(features_scores, key=lambda x: x[1], reverse=True)\n",
    "\n",
    "    features_sorted = [x[0] for x in features_scores]\n",
    "    fl = np.array(features_sorted)\n",
    "    sc = np.array([x[1] for x in features_scores])\n",
    "    xs = np.arange(len(fl))\n",
    "\n",
    "    plt.figure(figsize=(10, 8))\n",
    "    plt.bar(xs, sc, alpha=0.5)\n",
    "    plt.xticks(xs + 0.35, fl, rotation='vertical')\n",
    "    plt.tight_layout()\n",
    "    plt.ylabel(ylabel)\n",
    "    plt.title('Feature Scores')\n",
    "    plt.savefig(desc, bbox_inches='tight')\n",
    "    plt.show()\n",
    "    return features_sorted"
   ]
  },
  {
   "cell_type": "code",
   "execution_count": 182,
   "metadata": {
    "collapsed": false
   },
   "outputs": [
    {
     "data": {
      "image/png": "[encoded data removed]",
      "text/plain": [
       "<matplotlib.figure.Figure at 0x1264b6650>"
      ]
     },
     "metadata": {},
     "output_type": "display_data"
    }
   ],
   "source": [
    "# Scores for features by SelectKBest\n",
    "\n",
    "sorted_feature_list = create_barchart(features_list[1:], selection.scores_,\n",
    "                                      'selectkbest_barchart.png', 'SelectKBest Features Scores')"
   ]
  },
  {
   "cell_type": "code",
   "execution_count": 183,
   "metadata": {
    "collapsed": false
   },
   "outputs": [
    {
     "name": "stdout",
     "output_type": "stream",
     "text": [
      "bathrooms -> score: 171.685997624 , pvalue: 74.3040750094\n",
      "bedrooms -> score: 39.2590686846 , pvalue: 17.0364473223\n",
      "latitude -> score: 0.594402084793 , pvalue: 0.258142436177\n",
      "longitude -> score: 0.663269677168 , pvalue: 0.288050489313\n",
      "price -> score: 14.4625599418 , pvalue: 6.27916993956\n",
      "price_bd_ratio -> score: 22.2287163635 , pvalue: 9.64946301388\n",
      "created_month -> score: 1.51036417316 , pvalue: 0.655922751255\n",
      "created_day -> score: 33.752580786 , pvalue: 14.6485428984\n",
      "is_description -> score: 397.759516759 , pvalue: 171.367202156\n",
      "listing_id -> score: 19.0858927767 , pvalue: 8.28569380794\n",
      "features_count -> score: 102.926046301 , pvalue: 44.6072422252\n",
      "photos_count -> score: 29.4632520196 , pvalue: 12.7880943052\n",
      "building_id_updated -> score: 826.516239634 , pvalue: inf\n",
      "manager_id_updated -> score: 34.3500508351 , pvalue: 14.9076632525\n",
      "description_len -> score: 130.841050102 , pvalue: 56.6734179292\n"
     ]
    }
   ],
   "source": [
    "pvals = []\n",
    "for i in range(0, len(selection.scores_)):\n",
    "    pval = -np.log10(selection.pvalues_[i])\n",
    "    pvals.append(pval)\n",
    "    print features_list[i + 1], '-> score:', selection.scores_[i], ', pvalue:', pvals[i]"
   ]
  },
  {
   "cell_type": "code",
   "execution_count": 184,
   "metadata": {
    "collapsed": false
   },
   "outputs": [],
   "source": [
    "from sklearn.model_selection import train_test_split\n",
    "from sklearn import preprocessing\n",
    "from sklearn.neighbors import KNeighborsClassifier\n",
    "from sklearn import metrics\n",
    "\n",
    "def calc_recall_pres(feature_list, dataset, desc):\n",
    "    current_feature_list = ['interest_level']\n",
    "    precisions = []\n",
    "    recalls = []\n",
    "\n",
    "    features_num = []\n",
    "    print 'Processing...'\n",
    "\n",
    "    for i in range(0, len(feature_list)):\n",
    "        current_feature_list.append(feature_list[i])\n",
    "        data = feature_format(dataset, current_feature_list)\n",
    "\n",
    "        labels, features = labels_features_split(data)\n",
    "        features_train, features_test, labels_train, labels_test = \\\n",
    "                train_test_split(features, labels, test_size=0.33, random_state=42)\n",
    "\n",
    "        clf = KNeighborsClassifier()\n",
    "        clf.fit(features_train, labels_train)\n",
    "\n",
    "        pred = clf.predict(features_test)\n",
    "        \n",
    "        #print current_feature_list\n",
    "        #print clf.score(features_test, labels_test)\n",
    "        precisions.append(metrics.precision_score(labels_test, pred, average='macro'))\n",
    "        recalls.append(metrics.recall_score(labels_test, pred, average='macro'))\n",
    "        features_num.append(len(current_feature_list))\n",
    "        \n",
    "    plt.figure()\n",
    "    plt.scatter(np.array(features_num), np.array(precisions))\n",
    "    plt.plot(np.array(features_num), np.array(precisions), label='Precision')\n",
    "    plt.scatter(features_num, recalls, color='green')\n",
    "    plt.plot(features_num, recalls, label='Recall')\n",
    "    plt.legend(loc='upper right', shadow=True)\n",
    "    plt.xlabel('Number of Features')\n",
    "    plt.ylabel('Value')\n",
    "    plt.title('Precision and Recall vs. Number of Features')\n",
    "    plt.show()\n",
    "    plt.savefig(desc)"
   ]
  },
  {
   "cell_type": "code",
   "execution_count": 185,
   "metadata": {
    "collapsed": false
   },
   "outputs": [
    {
     "name": "stdout",
     "output_type": "stream",
     "text": [
      "Processing...\n"
     ]
    },
    {
     "data": {
      "image/png": "[encoded data removed]",
      "text/plain": [
       "<matplotlib.figure.Figure at 0x1264b6510>"
      ]
     },
     "metadata": {},
     "output_type": "display_data"
    },
    {
     "data": {
      "text/plain": [
       "<matplotlib.figure.Figure at 0x157d21b50>"
      ]
     },
     "metadata": {},
     "output_type": "display_data"
    }
   ],
   "source": [
    "# Precision and recall scores for selected number of features\n",
    "calc_recall_pres(sorted_feature_list, train_data, 'selectkbest_prec_recall.png')"
   ]
  },
  {
   "cell_type": "code",
   "execution_count": 186,
   "metadata": {
    "collapsed": true
   },
   "outputs": [],
   "source": [
    "from sklearn.feature_selection import RFE\n",
    "from sklearn import tree\n",
    "from sklearn.naive_bayes import GaussianNB"
   ]
  },
  {
   "cell_type": "code",
   "execution_count": 187,
   "metadata": {
    "collapsed": false
   },
   "outputs": [],
   "source": [
    "from sklearn.svm import LinearSVC\n",
    "from time import time"
   ]
  },
  {
   "cell_type": "code",
   "execution_count": 188,
   "metadata": {
    "collapsed": false
   },
   "outputs": [
    {
     "name": "stdout",
     "output_type": "stream",
     "text": [
      "RFE complete! Training time:  339.151\n"
     ]
    }
   ],
   "source": [
    "estimator = LinearSVC()\n",
    "\n",
    "selector = RFE(estimator, n_features_to_select=5, step=1)\n",
    "t1 = time()\n",
    "selector = selector.fit(features, labels)\n",
    "print 'RFE complete!', 'Training time: ', round(time() - t1, 3)"
   ]
  },
  {
   "cell_type": "code",
   "execution_count": 189,
   "metadata": {
    "collapsed": false
   },
   "outputs": [
    {
     "name": "stdout",
     "output_type": "stream",
     "text": [
      "Top ranked features: \n",
      "\tprice : 1\n",
      "\tprice_bd_ratio : 1\n",
      "\tfeatures_count : 1\n",
      "\tbuilding_id_updated : 1\n",
      "\tdescription_len : 1\n"
     ]
    },
    {
     "data": {
      "image/png": "[encoded data removed]",
      "text/plain": [
       "<matplotlib.figure.Figure at 0x126703610>"
      ]
     },
     "metadata": {},
     "output_type": "display_data"
    }
   ],
   "source": [
    "print 'Top ranked features: '\n",
    "rank = selector.ranking_\n",
    "for i in range(0, len(rank)):\n",
    "    if rank[i] < 2:\n",
    "        print '\\t', features_list[i+1], ':', rank[i]\n",
    "\n",
    "sorted_feature_list2 = create_barchart(features_list[1:], list(selector.ranking_),\n",
    "                                       'rfe_barchart.png', 'RFE Features Scores')"
   ]
  },
  {
   "cell_type": "code",
   "execution_count": 190,
   "metadata": {
    "collapsed": false
   },
   "outputs": [
    {
     "name": "stdout",
     "output_type": "stream",
     "text": [
      "Processing...\n"
     ]
    },
    {
     "data": {
      "image/png": "[encoded data removed]",
      "text/plain": [
       "<matplotlib.figure.Figure at 0x1305d5310>"
      ]
     },
     "metadata": {},
     "output_type": "display_data"
    },
    {
     "data": {
      "text/plain": [
       "<matplotlib.figure.Figure at 0x15f4eed90>"
      ]
     },
     "metadata": {},
     "output_type": "display_data"
    }
   ],
   "source": [
    "sorted_feature_list2.reverse()\n",
    "calc_recall_pres(sorted_feature_list2, train_data, 'rfe_prec_recall.png')"
   ]
  },
  {
   "cell_type": "code",
   "execution_count": 191,
   "metadata": {
    "collapsed": false
   },
   "outputs": [],
   "source": [
    "#from sklearn.naive_bayes import GaussianNB\n",
    "from sklearn.neighbors import KNeighborsClassifier\n",
    "from sklearn import model_selection\n",
    "from sklearn.ensemble import RandomForestClassifier, AdaBoostClassifier\n",
    "from sklearn.svm import SVC\n",
    "from sklearn.gaussian_process import GaussianProcessClassifier\n",
    "from sklearn.neural_network import MLPClassifier\n",
    "from sklearn.discriminant_analysis import LinearDiscriminantAnalysis, QuadraticDiscriminantAnalysis\n",
    "from sklearn.gaussian_process.kernels import RBF\n",
    "from sklearn.model_selection import GridSearchCV"
   ]
  },
  {
   "cell_type": "code",
   "execution_count": 192,
   "metadata": {
    "collapsed": false
   },
   "outputs": [],
   "source": [
    "features_ = ['interest_level', 'bathrooms', 'bedrooms', 'building_id', 'created', \n",
    "             'description', 'display_address', 'features', 'latitude', 'listing_id', \n",
    "             'longitude', 'manager_id', 'photos', 'price', 'street_address', \n",
    "             'price_bd_ratio', 'created_year', 'created_month', 'created_day', \n",
    "             'is_description', 'features_count', 'photos_count','building_id_updated',\n",
    "             'manager_id_updated']\n",
    "selected_features_list_ = ['interest_level', 'building_id_updated']\n",
    "\n",
    "selected_features_list = ['interest_level', 'bathrooms', 'bedrooms', 'latitude', 'longitude', \n",
    "                          'price_bd_ratio', 'created_day', 'is_description', 'listing_id',\n",
    "                          'features_count', 'photos_count','building_id_updated', 'manager_id_updated',\n",
    "                         'description_len']"
   ]
  },
  {
   "cell_type": "code",
   "execution_count": 227,
   "metadata": {
    "collapsed": true
   },
   "outputs": [],
   "source": [
    "clf_data = feature_format(train_data, selected_features_list)\n",
    "data_sub = feature_format(test_data, selected_features_list)\n",
    "\n",
    "clf_labels, clf_features = labels_features_split(clf_data)\n",
    "labels_sub, features_sub = labels_features_split(data_sub, if_labels=False)"
   ]
  },
  {
   "cell_type": "code",
   "execution_count": 228,
   "metadata": {
    "collapsed": false
   },
   "outputs": [],
   "source": [
    "features_train, features_test, labels_train, labels_test = \\\n",
    "    model_selection.train_test_split(clf_features, clf_labels, test_size=0.4, random_state=42)\n",
    "\n",
    "scaler = preprocessing.Normalizer().fit(features_train)\n",
    "scaled_features_train = scaler.transform(features_train)\n",
    "scaled_features_test = scaler.transform(features_test)\n",
    "\n",
    "scaled_features_sub = scaler.transform(features_sub)"
   ]
  },
  {
   "cell_type": "code",
   "execution_count": 229,
   "metadata": {
    "collapsed": true
   },
   "outputs": [],
   "source": [
    "param_grid_rf = {'n_estimators': [50, 80, 100],\n",
    "                 'max_features': ['auto', 'sqrt', 'log2'],\n",
    "                 'min_samples_split': [15, 10, 25]}"
   ]
  },
  {
   "cell_type": "code",
   "execution_count": 230,
   "metadata": {
    "collapsed": false
   },
   "outputs": [],
   "source": [
    "#clf = KNeighborsClassifier(n_neighbors=5, weights='uniform', leaf_size=10, algorithm='auto')\n",
    "#clf = AdaBoostClassifier(n_estimators=50, algorithm='SAMME.R')\n",
    "#clf = RandomForestClassifier(max_features='auto', min_samples_split=10, n_estimators=50)\n",
    "#clf = SVC()\n",
    "#clf = AdaBoostClassifier()\n",
    "\n",
    "#svr = RandomForestClassifier()\n",
    "#clf = GridSearchCV(svr, param_grid_rf)"
   ]
  },
  {
   "cell_type": "code",
   "execution_count": 231,
   "metadata": {
    "collapsed": false
   },
   "outputs": [],
   "source": [
    "clf = RandomForestClassifier(max_features='auto',\n",
    "                             min_samples_split=25,\n",
    "                             n_estimators=100,\n",
    "                             criterion='entropy')"
   ]
  },
  {
   "cell_type": "code",
   "execution_count": 358,
   "metadata": {
    "collapsed": false
   },
   "outputs": [
    {
     "name": "stdout",
     "output_type": "stream",
     "text": [
      "Start training...\n",
      "Training complete! Training time:  9.78\n",
      "\n",
      "Predicting...\n",
      "Prediction complete!\n"
     ]
    }
   ],
   "source": [
    "t1 = time()\n",
    "print 'Start training...'\n",
    "clf.fit(scaled_features_train, labels_train)\n",
    "print 'Training complete!', 'Training time: ', round(time() - t1, 3)\n",
    "\n",
    "print\n",
    "print 'Predicting...'\n",
    "pred = clf.predict(scaled_features_test)\n",
    "pred_proba = clf.predict_proba(scaled_features_test)\n",
    "print 'Prediction complete!'"
   ]
  },
  {
   "cell_type": "code",
   "execution_count": 359,
   "metadata": {
    "collapsed": false
   },
   "outputs": [
    {
     "name": "stdout",
     "output_type": "stream",
     "text": [
      "Accuracy:  0.717390203131\n",
      "Log loss:  0.633828152153\n",
      "Average precision:  0.624444590867\n",
      "Average recall:  0.422645713004\n"
     ]
    }
   ],
   "source": [
    "#print 'Best parameters: ', clf.best_params_\n",
    "#print 'Best estimator: ', clf.best_estimator_\n",
    "\n",
    "print 'Accuracy: ', clf.score(scaled_features_test, labels_test)\n",
    "print 'Log loss: ', metrics.log_loss(labels_test, pred_proba)\n",
    "print 'Average precision: ', metrics.precision_score(labels_test, pred, average='macro')\n",
    "print 'Average recall: ', metrics.recall_score(labels_test, pred, average='macro')"
   ]
  },
  {
   "cell_type": "code",
   "execution_count": 360,
   "metadata": {
    "collapsed": false
   },
   "outputs": [],
   "source": [
    "# Apply to submission data\n",
    "pred_sub = clf.predict(scaled_features_sub)\n",
    "pred_sub_proba = clf.predict_proba(scaled_features_sub)"
   ]
  },
  {
   "cell_type": "code",
   "execution_count": 361,
   "metadata": {
    "collapsed": false
   },
   "outputs": [
    {
     "name": "stdout",
     "output_type": "stream",
     "text": [
      "[u'high' u'low' u'medium']\n"
     ]
    }
   ],
   "source": [
    "classes = clf.classes_\n",
    "print classes"
   ]
  },
  {
   "cell_type": "code",
   "execution_count": 367,
   "metadata": {
    "collapsed": false
   },
   "outputs": [
    {
     "data": {
      "text/plain": [
       "(74659, 4)"
      ]
     },
     "execution_count": 367,
     "metadata": {},
     "output_type": "execute_result"
    }
   ],
   "source": [
    "pred_df = pd.DataFrame(pred_sub_proba, columns=classes)\n",
    "pred_df['listing_id'] = listing_id.values\n",
    "pred_df = pred_df.reindex(columns=['listing_id', 'high', 'medium', 'low'])\n",
    "pred_df.shape"
   ]
  },
  {
   "cell_type": "code",
   "execution_count": 366,
   "metadata": {
    "collapsed": true
   },
   "outputs": [],
   "source": [
    "pred_df.to_csv(\"submission.csv\", index=False)"
   ]
  },
  {
   "cell_type": "markdown",
   "metadata": {},
   "source": [
    "1. adaboost\n",
    "Accuracy:  0.704984465757\n",
    "Average precision:  0.580662714001\n",
    "Average recall:  0.41457260709\n",
    "\n",
    "2. randomforest\n",
    "no price:\n",
    "Accuracy:  0.716123803252\n",
    "Average precision:  0.632190906366\n",
    "Average recall:  0.422619485374\n",
    "\n",
    "price:\n",
    "Accuracy:  0.718200699053\n",
    "Average precision:  0.614163188151\n",
    "Average recall:  0.439975196956\n",
    "\n",
    "(max_features='auto', min_samples_split=15, n_estimators=80, criterion='entropy')\n",
    "Accuracy:  0.716061056329\n",
    "Average precision:  0.617323321578\n",
    "Average recall:  0.445681776606\n",
    "\n",
    "(max_features='auto', min_samples_split=15, n_estimators=80)\n",
    "Accuracy:  0.714034850736\n",
    "Average precision:  0.612073862383\n",
    "Average recall:  0.445454720936\n",
    "\n",
    "3. kneighbors\n",
    "Accuracy:  0.669998649196\n",
    "Average precision:  0.470374013417\n",
    "Average recall:  0.436490851589\n",
    "4. linearsvc\n",
    "Accuracy:  0.687964338782\n",
    "Average precision:  0.229321446261\n",
    "Average recall:  0.333333333333\n",
    "5. svc\n",
    "Accuracy:  0.687964338782\n",
    "Average precision:  0.229321446261\n",
    "Average recall:  0.333333333333\n",
    "6. neural\n",
    "Accuracy:  0.687964338782\n",
    "Average precision:  0.229321446261\n",
    "Average recall:  0.333333333333\n",
    "\n",
    "1. robustscaler\n",
    "Accuracy:  0.678846413616\n",
    "Average precision:  0.477999451278\n",
    "Average recall:  0.442697093516\n",
    "2. standardscaler\n",
    "Accuracy:  0.647372686749\n",
    "Average precision:  0.411635009217\n",
    "Average recall:  0.386056133269\n",
    "3. normalizer\n",
    "Accuracy:  0.669998649196\n",
    "Average precision:  0.470374013417\n",
    "Average recall:  0.436490851589"
   ]
  },
  {
   "cell_type": "code",
   "execution_count": 659,
   "metadata": {
    "collapsed": false
   },
   "outputs": [
    {
     "name": "stdout",
     "output_type": "stream",
     "text": [
      "0.715921179272\n",
      "14133 0\n"
     ]
    }
   ],
   "source": [
    "true_negatives = 0\n",
    "false_negatives = 0\n",
    "true_positives = 0\n",
    "false_positives = 0\n",
    "\n",
    "for p, truth in zip(pred, labels_test):\n",
    "    if (p == 'low' and truth == 'low') or (p == 'medium' and truth == 'medium') or \\\n",
    "                                        (p == 'high' and truth == 'high'):\n",
    "        true_positives += 1\n",
    "    #elif \n",
    "    #print p, truth\n",
    "\n",
    "print true_positives/float(len(pred))\n",
    "print true_positives, false_positives\n",
    "precision = 1.0*true_positives/(true_positives+false_positives)"
   ]
  },
  {
   "cell_type": "code",
   "execution_count": null,
   "metadata": {
    "collapsed": true
   },
   "outputs": [],
   "source": []
  }
 ],
 "metadata": {
  "anaconda-cloud": {},
  "kernelspec": {
   "display_name": "Python [Root]",
   "language": "python",
   "name": "Python [Root]"
  },
  "language_info": {
   "codemirror_mode": {
    "name": "ipython",
    "version": 2
   },
   "file_extension": ".py",
   "mimetype": "text/x-python",
   "name": "python",
   "nbconvert_exporter": "python",
   "pygments_lexer": "ipython2",
   "version": "2.7.12"
  }
 },
 "nbformat": 4,
 "nbformat_minor": 0
}
